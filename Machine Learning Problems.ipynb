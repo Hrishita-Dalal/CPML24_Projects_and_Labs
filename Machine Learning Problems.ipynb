{
  "cells": [
    {
      "cell_type": "markdown",
      "metadata": {
        "id": "view-in-github",
        "colab_type": "text"
      },
      "source": [
        "<a href=\"https://colab.research.google.com/github/Hrishita-Dalal/CPML24_Projects_and_Labs/blob/main/Machine%20Learning%20Problems.ipynb\" target=\"_parent\"><img src=\"https://colab.research.google.com/assets/colab-badge.svg\" alt=\"Open In Colab\"/></a>"
      ]
    },
    {
      "cell_type": "markdown",
      "metadata": {
        "id": "3Eu9VZbF01eq"
      },
      "source": [
        "# Machine Learning terms and metrics\n",
        "\n",
        "FMML Module 1, Lab 2\n",
        "\n",
        "In this lab, we will show a part of the ML pipeline by using the California Housing dataset. There are 20640 samples, each with 8 attributes like income of the block, age of the houses per district etc. The task is to predict the cost of the houses per district. We will use the scikit-learn library to load the data and perform some basic data preprocessing and model training. We will also show how to evaluate the model using some common metrics, split the data into training and testing sets, and use cross-validation to get a better estimate of the model's performance."
      ]
    },
    {
      "cell_type": "code",
      "execution_count": 1,
      "metadata": {
        "id": "8qBvyEem0vLi"
      },
      "outputs": [],
      "source": [
        "import numpy as np\n",
        "from sklearn import datasets\n",
        "import matplotlib.pyplot as plt\n",
        "\n",
        "rng = np.random.default_rng(seed=42)"
      ]
    },
    {
      "cell_type": "code",
      "execution_count": 2,
      "metadata": {
        "colab": {
          "base_uri": "https://localhost:8080/"
        },
        "id": "8LpqjN991GGJ",
        "outputId": "9762bc74-92c5-401c-e6c2-c44a57aa63a7"
      },
      "outputs": [
        {
          "output_type": "stream",
          "name": "stdout",
          "text": [
            ".. _california_housing_dataset:\n",
            "\n",
            "California Housing dataset\n",
            "--------------------------\n",
            "\n",
            "**Data Set Characteristics:**\n",
            "\n",
            "    :Number of Instances: 20640\n",
            "\n",
            "    :Number of Attributes: 8 numeric, predictive attributes and the target\n",
            "\n",
            "    :Attribute Information:\n",
            "        - MedInc        median income in block group\n",
            "        - HouseAge      median house age in block group\n",
            "        - AveRooms      average number of rooms per household\n",
            "        - AveBedrms     average number of bedrooms per household\n",
            "        - Population    block group population\n",
            "        - AveOccup      average number of household members\n",
            "        - Latitude      block group latitude\n",
            "        - Longitude     block group longitude\n",
            "\n",
            "    :Missing Attribute Values: None\n",
            "\n",
            "This dataset was obtained from the StatLib repository.\n",
            "https://www.dcc.fc.up.pt/~ltorgo/Regression/cal_housing.html\n",
            "\n",
            "The target variable is the median house value for California districts,\n",
            "expressed in hundreds of thousands of dollars ($100,000).\n",
            "\n",
            "This dataset was derived from the 1990 U.S. census, using one row per census\n",
            "block group. A block group is the smallest geographical unit for which the U.S.\n",
            "Census Bureau publishes sample data (a block group typically has a population\n",
            "of 600 to 3,000 people).\n",
            "\n",
            "A household is a group of people residing within a home. Since the average\n",
            "number of rooms and bedrooms in this dataset are provided per household, these\n",
            "columns may take surprisingly large values for block groups with few households\n",
            "and many empty houses, such as vacation resorts.\n",
            "\n",
            "It can be downloaded/loaded using the\n",
            ":func:`sklearn.datasets.fetch_california_housing` function.\n",
            "\n",
            ".. topic:: References\n",
            "\n",
            "    - Pace, R. Kelley and Ronald Barry, Sparse Spatial Autoregressions,\n",
            "      Statistics and Probability Letters, 33 (1997) 291-297\n",
            "\n"
          ]
        }
      ],
      "source": [
        "dataset = datasets.fetch_california_housing()\n",
        "# Dataset description\n",
        "print(dataset.DESCR)"
      ]
    },
    {
      "cell_type": "markdown",
      "metadata": {
        "id": "PCe1VNftevgE"
      },
      "source": [
        "Given below are the list of target values. These correspond to the house value derived considering all the 8 input features and are continuous values. We should use regression models to predict these values but we will start with a simple classification model for the sake of simplicity. We need to just round off the values to the nearest integer and use a classification model to predict the house value."
      ]
    },
    {
      "cell_type": "code",
      "execution_count": 3,
      "metadata": {
        "colab": {
          "base_uri": "https://localhost:8080/"
        },
        "id": "F8K0ggBOevgE",
        "outputId": "512bc874-45ac-4451-85e7-2bd6bdcb3191"
      },
      "outputs": [
        {
          "output_type": "stream",
          "name": "stdout",
          "text": [
            "Orignal target values: [4.526 3.585 3.521 ... 0.923 0.847 0.894]\n",
            "Target values after conversion: [4 3 3 ... 0 0 0]\n",
            "Input variables shape: (20640, 8)\n",
            "Output variables shape: (20640,)\n"
          ]
        }
      ],
      "source": [
        "print(\"Orignal target values:\", dataset.target)\n",
        "\n",
        "dataset.target = dataset.target.astype(int)\n",
        "\n",
        "print(\"Target values after conversion:\", dataset.target)\n",
        "print(\"Input variables shape:\", dataset.data.shape)\n",
        "print(\"Output variables shape:\", dataset.target.shape)"
      ]
    },
    {
      "cell_type": "markdown",
      "metadata": {
        "id": "iNx4174W5xRg"
      },
      "source": [
        "The simplest model to use for classification is the K-Nearest Neighbors model. We will use this model to predict the house value with a K value of 1. We will also use the accuracy metric to evaluate the model."
      ]
    },
    {
      "cell_type": "code",
      "execution_count": 4,
      "metadata": {
        "id": "07zpydQj1hIQ"
      },
      "outputs": [],
      "source": [
        "def NN1(traindata, trainlabel, query):\n",
        "    \"\"\"\n",
        "    This function takes in the training data, training labels and a query point\n",
        "    and returns the predicted label for the query point using the nearest neighbour algorithm\n",
        "\n",
        "    traindata: numpy array of shape (n,d) where n is the number of samples and d is the number of features\n",
        "    trainlabel: numpy array of shape (n,) where n is the number of samples\n",
        "    query: numpy array of shape (d,) where d is the number of features\n",
        "\n",
        "    returns: the predicted label for the query point which is the label of the training data which is closest to the query point\n",
        "    \"\"\"\n",
        "    diff = (\n",
        "        traindata - query\n",
        "    )  # find the difference between features. Numpy automatically takes care of the size here\n",
        "    sq = diff * diff  # square the differences\n",
        "    dist = sq.sum(1)  # add up the squares\n",
        "    label = trainlabel[np.argmin(dist)]\n",
        "    return label\n",
        "\n",
        "\n",
        "def NN(traindata, trainlabel, testdata):\n",
        "    \"\"\"\n",
        "    This function takes in the training data, training labels and test data\n",
        "    and returns the predicted labels for the test data using the nearest neighbour algorithm\n",
        "\n",
        "    traindata: numpy array of shape (n,d) where n is the number of samples and d is the number of features\n",
        "    trainlabel: numpy array of shape (n,) where n is the number of samples\n",
        "    testdata: numpy array of shape (m,d) where m is the number of test samples and d is the number of features\n",
        "\n",
        "    returns: the predicted labels for the test data which is the label of the training data which is closest to each test point\n",
        "    \"\"\"\n",
        "    predlabel = np.array([NN1(traindata, trainlabel, i) for i in testdata])\n",
        "    return predlabel"
      ]
    },
    {
      "cell_type": "markdown",
      "metadata": {
        "id": "03JktkfIGaje"
      },
      "source": [
        "We will also define a 'random classifier', which randomly allots labels to each sample"
      ]
    },
    {
      "cell_type": "code",
      "execution_count": 5,
      "metadata": {
        "id": "fogWAtjyGhAH"
      },
      "outputs": [],
      "source": [
        "def RandomClassifier(traindata, trainlabel, testdata):\n",
        "    \"\"\"\n",
        "    This function takes in the training data, training labels and test data\n",
        "    and returns the predicted labels for the test data using the random classifier algorithm\n",
        "\n",
        "    In reality, we don't need these arguments but we are passing them to keep the function signature consistent with other classifiers\n",
        "\n",
        "    traindata: numpy array of shape (n,d) where n is the number of samples and d is the number of features\n",
        "    trainlabel: numpy array of shape (n,) where n is the number of samples\n",
        "    testdata: numpy array of shape (m,d) where m is the number of test samples and d is the number of features\n",
        "\n",
        "    returns: the predicted labels for the test data which is a random label from the training data\n",
        "    \"\"\"\n",
        "\n",
        "    classes = np.unique(trainlabel)\n",
        "    rints = rng.integers(low=0, high=len(classes), size=len(testdata))\n",
        "    predlabel = classes[rints]\n",
        "    return predlabel"
      ]
    },
    {
      "cell_type": "markdown",
      "metadata": {
        "id": "1Hjf1KHs7fU5"
      },
      "source": [
        "We need a metric to evaluate the performance of the model. Let us define a metric 'Accuracy' to see how good our learning algorithm is. Accuracy is the ratio of the number of correctly classified samples to the total number of samples. The higher the accuracy, the better the algorithm. We will use the accuracy metric to evaluate and compate the performance of the K-Nearest Neighbors model and the random classifier."
      ]
    },
    {
      "cell_type": "code",
      "execution_count": 6,
      "metadata": {
        "id": "ouuCqWU07bz-"
      },
      "outputs": [],
      "source": [
        "def Accuracy(gtlabel, predlabel):\n",
        "    \"\"\"\n",
        "    This function takes in the ground-truth labels and predicted labels\n",
        "    and returns the accuracy of the classifier\n",
        "\n",
        "    gtlabel: numpy array of shape (n,) where n is the number of samples\n",
        "    predlabel: numpy array of shape (n,) where n is the number of samples\n",
        "\n",
        "    returns: the accuracy of the classifier which is the number of correct predictions divided by the total number of predictions\n",
        "    \"\"\"\n",
        "    assert len(gtlabel) == len(\n",
        "        predlabel\n",
        "    ), \"Length of the ground-truth labels and predicted labels should be the same\"\n",
        "    correct = (\n",
        "        gtlabel == predlabel\n",
        "    ).sum()  # count the number of times the groundtruth label is equal to the predicted label.\n",
        "    return correct / len(gtlabel)"
      ]
    },
    {
      "cell_type": "markdown",
      "metadata": {
        "id": "4vJFwBFa9Klw"
      },
      "source": [
        "Let us make a function to split the dataset with the desired probability. We will use this function to split the dataset into training and testing sets. We will use the training set to train the model and the testing set to evaluate the model."
      ]
    },
    {
      "cell_type": "code",
      "execution_count": 7,
      "metadata": {
        "id": "Ko0VzpSM2Tdi"
      },
      "outputs": [],
      "source": [
        "def split(data, label, percent):\n",
        "    # generate a random number for each sample\n",
        "    rnd = rng.random(len(label))\n",
        "    split1 = rnd < percent\n",
        "    split2 = rnd >= percent\n",
        "\n",
        "    split1data = data[split1, :]\n",
        "    split1label = label[split1]\n",
        "    split2data = data[split2, :]\n",
        "    split2label = label[split2]\n",
        "    return split1data, split1label, split2data, split2label"
      ]
    },
    {
      "cell_type": "markdown",
      "metadata": {
        "id": "AcK3LEAJ_LGC"
      },
      "source": [
        "We will reserve 20% of our dataset as the test set. We will not change this portion throughout our experiments"
      ]
    },
    {
      "cell_type": "code",
      "execution_count": 8,
      "metadata": {
        "colab": {
          "base_uri": "https://localhost:8080/"
        },
        "id": "bBZkHBLJ1iU-",
        "outputId": "fcc4d633-4b2d-42d9-878f-219396d71f52"
      },
      "outputs": [
        {
          "output_type": "stream",
          "name": "stdout",
          "text": [
            "Number of test samples: 4144\n",
            "Number of train samples: 16496\n",
            "Percent of test data: 20.07751937984496 %\n"
          ]
        }
      ],
      "source": [
        "testdata, testlabel, alltraindata, alltrainlabel = split(\n",
        "    dataset.data, dataset.target, 20 / 100\n",
        ")\n",
        "print(\"Number of test samples:\", len(testlabel))\n",
        "print(\"Number of train samples:\", len(alltrainlabel))\n",
        "print(\"Percent of test data:\", len(testlabel) * 100 / len(dataset.target), \"%\")"
      ]
    },
    {
      "cell_type": "markdown",
      "metadata": {
        "id": "a6Ss0Z6IAGNV"
      },
      "source": [
        "## Experiments with splits\n",
        "\n",
        "Let us reserve some of our train data as a validation set"
      ]
    },
    {
      "cell_type": "code",
      "execution_count": 9,
      "metadata": {
        "id": "WFew2iry_7W7"
      },
      "outputs": [],
      "source": [
        "traindata, trainlabel, valdata, vallabel = split(\n",
        "    alltraindata, alltrainlabel, 75 / 100)"
      ]
    },
    {
      "cell_type": "markdown",
      "metadata": {
        "id": "60hiu4clFN1i"
      },
      "source": [
        "What is the accuracy of our classifiers on the train dataset?"
      ]
    },
    {
      "cell_type": "code",
      "execution_count": 10,
      "metadata": {
        "colab": {
          "base_uri": "https://localhost:8080/"
        },
        "id": "DBlZDTHUFTZx",
        "outputId": "08b4b6c1-ed2c-45c9-8a38-b03620572922"
      },
      "outputs": [
        {
          "output_type": "stream",
          "name": "stdout",
          "text": [
            "Training accuracy using nearest neighbour algorithm: 100.0 %\n",
            "Training accuracy using random classifier:  16.4375808538163 %\n"
          ]
        }
      ],
      "source": [
        "trainpred = NN(traindata, trainlabel, traindata)\n",
        "trainAccuracy = Accuracy(trainlabel, trainpred)\n",
        "print(\"Training accuracy using nearest neighbour algorithm:\", trainAccuracy*100, \"%\")\n",
        "\n",
        "trainpred = RandomClassifier(traindata, trainlabel, traindata)\n",
        "trainAccuracy = Accuracy(trainlabel, trainpred)\n",
        "print(\"Training accuracy using random classifier: \", trainAccuracy*100, \"%\")"
      ]
    },
    {
      "cell_type": "markdown",
      "metadata": {
        "id": "7h08-9gJDtSy"
      },
      "source": [
        "For nearest neighbour, the train accuracy is always 1. The accuracy of the random classifier is close to 1/(number of classes) which is 0.1666 in our case. This is because the random classifier randomly assigns a label to each sample and the probability of assigning the correct label is 1/(number of classes). Let us predict the labels for our validation set and get the accuracy. This accuracy is a good estimate of the accuracy of our model on unseen data."
      ]
    },
    {
      "cell_type": "code",
      "execution_count": 12,
      "metadata": {
        "colab": {
          "base_uri": "https://localhost:8080/"
        },
        "id": "4h7bXoW_2H3v",
        "outputId": "97bb9c93-43fb-49ad-a662-7890d3daf4af"
      },
      "outputs": [
        {
          "output_type": "stream",
          "name": "stdout",
          "text": [
            "Validation accuracy using nearest neighbour algorithm: 34.10852713178294 %\n",
            "Validation accuracy using random classifier: 17.00581395348837 %\n"
          ]
        }
      ],
      "source": [
        "valpred = NN(traindata, trainlabel, valdata)\n",
        "valAccuracy = Accuracy(vallabel, valpred)\n",
        "print(\"Validation accuracy using nearest neighbour algorithm:\", valAccuracy*100, \"%\")\n",
        "\n",
        "\n",
        "valpred = RandomClassifier(traindata, trainlabel, valdata)\n",
        "valAccuracy = Accuracy(vallabel, valpred)\n",
        "print(\"Validation accuracy using random classifier:\", valAccuracy*100, \"%\")"
      ]
    },
    {
      "cell_type": "markdown",
      "metadata": {
        "id": "py9bLguFEjfg"
      },
      "source": [
        "Validation accuracy of nearest neighbour is considerably less than its train accuracy while the validation accuracy of random classifier is the same. However, the validation accuracy of nearest neighbour is twice that of the random classifier. Now let us try another random split and check the validation accuracy. We will see that the validation accuracy changes with the split. This is because the validation set is small and the accuracy is highly dependent on the samples in the validation set. We can get a better estimate of the accuracy by using cross-validation."
      ]
    },
    {
      "cell_type": "code",
      "execution_count": 51,
      "metadata": {
        "colab": {
          "base_uri": "https://localhost:8080/"
        },
        "id": "ujm3cyYzEntE",
        "outputId": "a52cc6d5-3cc6-46d8-aaa6-cb78557ac8e3"
      },
      "outputs": [
        {
          "output_type": "stream",
          "name": "stdout",
          "text": [
            "60.05329457364341\n",
            "19.86918604651163\n",
            "Validation accuracy using nearest neighbour algorithm: 34.186783711289934 %\n"
          ]
        }
      ],
      "source": [
        "traindata, trainlabel, valdata, vallabel = split(\n",
        "    alltraindata, alltrainlabel, 75 / 100)\n",
        "print(len(trainlabel) * 100 / len(dataset.target))\n",
        "print(len(vallabel) * 100 / len(dataset.target))\n",
        "valpred = NN(traindata, trainlabel, valdata)\n",
        "valAccuracy = Accuracy(vallabel, valpred)\n",
        "print(\"Validation accuracy using nearest neighbour algorithm:\", valAccuracy*100, \"%\")"
      ]
    },
    {
      "cell_type": "markdown",
      "metadata": {
        "id": "oSOx7U83EKie"
      },
      "source": [
        "You can run the above cell multiple times to try with different random splits.\n",
        "We notice that the accuracy is different for each run, but close together.\n",
        "\n",
        "Now let us compare it with the accuracy we get on the test dataset."
      ]
    },
    {
      "cell_type": "code",
      "execution_count": 26,
      "metadata": {
        "colab": {
          "base_uri": "https://localhost:8080/"
        },
        "id": "PNEZ5ToYBEDW",
        "outputId": "6c4c58e5-8435-40f6-afc4-9b03d4e82801"
      },
      "outputs": [
        {
          "output_type": "stream",
          "name": "stdout",
          "text": [
            "Test accuracy: 34.91795366795367 %\n"
          ]
        }
      ],
      "source": [
        "testpred = NN(alltraindata, alltrainlabel, testdata)\n",
        "testAccuracy = Accuracy(testlabel, testpred)\n",
        "\n",
        "print(\"Test accuracy:\", testAccuracy*100, \"%\")"
      ]
    },
    {
      "cell_type": "code",
      "source": [
        "traindata, trainlabel, valdata, vallabel = split(\n",
        "    alltraindata, alltrainlabel, 95 / 100)\n",
        "print(len(trainlabel) * 100 / len(dataset.target))\n",
        "print(len(vallabel) * 100 / len(dataset.target))\n",
        "valpred = RandomClassifier(traindata, trainlabel, valdata)\n",
        "valAccuracy = Accuracy(vallabel, valpred)\n",
        "print(\"Validation accuracy using random classifier:\", valAccuracy*100, \"%\")"
      ],
      "metadata": {
        "id": "Q4BLRhod6Z0X",
        "outputId": "15c3d1dd-242c-4ac0-bfb2-8307513ec1b5",
        "colab": {
          "base_uri": "https://localhost:8080/"
        }
      },
      "execution_count": 46,
      "outputs": [
        {
          "output_type": "stream",
          "name": "stdout",
          "text": [
            "75.99806201550388\n",
            "3.9244186046511627\n",
            "Validation accuracy using random classifier: 15.802469135802468 %\n"
          ]
        }
      ]
    },
    {
      "cell_type": "code",
      "source": [
        "testpred = RandomClassifier(alltraindata, alltrainlabel, testdata)\n",
        "testAccuracy = Accuracy(testlabel, testpred)\n",
        "\n",
        "print(\"Test accuracy:\", testAccuracy*100, \"%\")"
      ],
      "metadata": {
        "id": "TCzO6pBx8NgA",
        "outputId": "62de8c33-efc2-4936-92d7-fd365e8a1ef7",
        "colab": {
          "base_uri": "https://localhost:8080/"
        }
      },
      "execution_count": 47,
      "outputs": [
        {
          "output_type": "stream",
          "name": "stdout",
          "text": [
            "Test accuracy: 15.492277992277991 %\n"
          ]
        }
      ]
    },
    {
      "cell_type": "markdown",
      "metadata": {
        "id": "w3dGD531K3gH"
      },
      "source": [
        "### Try it out for yourself and answer:\n",
        "1. How is the accuracy of the validation set affected if we increase the percentage of validation set? What happens when we reduce it?\n",
        "2. How does the size of the train and validation set affect how well we can predict the accuracy on the test set using the validation set?\n",
        "3. What do you think is a good percentage to reserve for the validation set so that thest two factors are balanced?\n",
        "\n",
        "Answer for both nearest neighbour and random classifier. You can note down the values for your experiments and plot a graph using  <a href=https://matplotlib.org/stable/gallery/lines_bars_and_markers/step_demo.html#sphx-glr-gallery-lines-bars-and-markers-step-demo-py>plt.plot<href>. Check also for extreme values for splits, like 99.9% or 0.1%"
      ]
    },
    {
      "cell_type": "markdown",
      "source": [
        "**Answers:**\n",
        "1.\n",
        "    *   NN - If we increase the percentage of validation set, the accuracy decreases but very slightly, and if we decrease the percentage, the accuracy increases slightly.\n",
        "    *   Random CLassifier - There's no effect of percentage of validation dataset on its accuracy.\n",
        "\n",
        "\n",
        "2.\n",
        "    *   NN - If the percentage of validation set is same as that of test set, then their accuracies are quite similar.\n",
        "    *   Random Classifier - Since there is no effect of percentage on accuracy, the accuracy of the test set will always be around 1/(number of classes).\n",
        "\n",
        "\n",
        "3.\n",
        "    *   NN - A good percentage to reserve for the validation data set is 20% of the whole dataset, i.e., 25% of the training dataset.\n",
        "    *   Random Classifier - Any percentage can be reserved for validation set as it does not affect the accuracy of the model.\n",
        "\n"
      ],
      "metadata": {
        "id": "l8L7MJgH3BwD"
      }
    },
    {
      "cell_type": "code",
      "source": [
        "x = np.arange(1, 100)\n",
        "print(x)\n",
        "y_NN = []\n",
        "y_RC = []\n",
        "for i in range(1, 100):\n",
        "    traindata, trainlabel, valdata, vallabel = split(\n",
        "        alltraindata, alltrainlabel, i / 100)\n",
        "    print(i, len(trainlabel) * 100 / len(dataset.target),\n",
        "          len(vallabel) * 100 / len(dataset.target))\n",
        "    valpred_NN = NN(traindata, trainlabel, valdata)\n",
        "    valpred_RC = RandomClassifier(traindata, trainlabel, valdata)\n",
        "    y_NN.append(Accuracy(vallabel, valpred_NN))\n",
        "    y_RC.append(Accuracy(vallabel, valpred_RC))\n",
        "print(y_NN)\n",
        "print(y_RC)"
      ],
      "metadata": {
        "id": "QX8dUHLx868U",
        "outputId": "a9d60d9c-c313-4e03-df61-7eb9951c4203",
        "colab": {
          "base_uri": "https://localhost:8080/"
        }
      },
      "execution_count": 66,
      "outputs": [
        {
          "output_type": "stream",
          "name": "stdout",
          "text": [
            "[ 1  2  3  4  5  6  7  8  9 10 11 12 13 14 15 16 17 18 19 20 21 22 23 24\n",
            " 25 26 27 28 29 30 31 32 33 34 35 36 37 38 39 40 41 42 43 44 45 46 47 48\n",
            " 49 50 51 52 53 54 55 56 57 58 59 60 61 62 63 64 65 66 67 68 69 70 71 72\n",
            " 73 74 75 76 77 78 79 80 81 82 83 84 85 86 87 88 89 90 91 92 93 94 95 96\n",
            " 97 98 99]\n",
            "1 0.7655038759689923 79.15697674418605\n",
            "2 1.6182170542635659 78.30426356589147\n",
            "3 2.451550387596899 77.47093023255815\n",
            "4 3.076550387596899 76.84593023255815\n",
            "5 3.938953488372093 75.98352713178295\n",
            "6 4.588178294573644 75.33430232558139\n",
            "7 5.65406976744186 74.26841085271317\n",
            "8 6.656976744186046 73.26550387596899\n",
            "9 7.0687984496124034 72.85368217054264\n",
            "10 8.236434108527131 71.68604651162791\n",
            "11 8.982558139534884 70.93992248062015\n",
            "12 9.607558139534884 70.31492248062015\n",
            "13 10.571705426356589 69.35077519379846\n",
            "14 11.075581395348838 68.84689922480621\n",
            "15 11.991279069767442 67.9312015503876\n",
            "16 13.032945736434108 66.88953488372093\n",
            "17 13.517441860465116 66.40503875968992\n",
            "18 14.660852713178295 65.26162790697674\n",
            "19 14.825581395348838 65.09689922480621\n",
            "20 15.746124031007753 64.17635658914729\n",
            "21 16.652131782945737 63.270348837209305\n",
            "22 17.223837209302324 62.69864341085271\n",
            "23 18.197674418604652 61.724806201550386\n",
            "24 19.670542635658915 60.251937984496124\n",
            "25 20.208333333333332 59.71414728682171\n",
            "26 20.881782945736433 59.0406976744186\n",
            "27 21.589147286821706 58.333333333333336\n",
            "28 22.272286821705425 57.650193798449614\n",
            "29 23.546511627906977 56.37596899224806\n",
            "30 24.35562015503876 55.56686046511628\n",
            "31 24.84011627906977 55.082364341085274\n",
            "32 25.54263565891473 54.37984496124031\n",
            "33 26.356589147286822 53.565891472868216\n",
            "34 27.214147286821706 52.708333333333336\n",
            "35 27.669573643410853 52.252906976744185\n",
            "36 28.546511627906977 51.37596899224806\n",
            "37 29.287790697674417 50.63468992248062\n",
            "38 30.436046511627907 49.486434108527135\n",
            "39 31.83139534883721 48.09108527131783\n",
            "40 31.9718992248062 47.950581395348834\n",
            "41 32.747093023255815 47.17538759689923\n",
            "42 33.59011627906977 46.332364341085274\n",
            "43 33.895348837209305 46.02713178294574\n",
            "44 34.81104651162791 45.111434108527135\n",
            "45 35.939922480620154 43.98255813953488\n",
            "46 36.74903100775194 43.173449612403104\n",
            "47 37.742248062015506 42.18023255813954\n",
            "48 38.4156976744186 41.50678294573643\n",
            "49 39.05523255813954 40.867248062015506\n",
            "50 39.549418604651166 40.373062015503876\n",
            "51 40.314922480620154 39.60755813953488\n",
            "52 41.28875968992248 38.633720930232556\n",
            "53 42.354651162790695 37.56782945736434\n",
            "54 42.950581395348834 36.9718992248062\n",
            "55 44.29748062015504 35.625\n",
            "56 44.951550387596896 34.97093023255814\n",
            "57 46.04651162790697 33.87596899224806\n",
            "58 46.51647286821706 33.406007751937985\n",
            "59 46.57945736434109 33.343023255813954\n",
            "60 47.92635658914729 31.996124031007753\n",
            "61 48.9874031007752 30.935077519379846\n",
            "62 49.11337209302326 30.809108527131784\n",
            "63 50.707364341085274 29.21511627906977\n",
            "64 51.09496124031008 28.82751937984496\n",
            "65 51.497093023255815 28.425387596899224\n",
            "66 52.83914728682171 27.083333333333332\n",
            "67 53.85174418604651 26.07073643410853\n",
            "68 54.32170542635659 25.600775193798448\n",
            "69 55.775193798449614 24.147286821705425\n",
            "70 55.770348837209305 24.152131782945737\n",
            "71 56.54554263565891 23.376937984496124\n",
            "72 57.873062015503876 22.049418604651162\n",
            "73 57.684108527131784 22.238372093023255\n",
            "74 59.326550387596896 20.59593023255814\n",
            "75 60.382751937984494 19.539728682170544\n",
            "76 61.14341085271318 18.77906976744186\n",
            "77 62.025193798449614 17.897286821705425\n",
            "78 62.122093023255815 17.800387596899224\n",
            "79 63.12984496124031 16.79263565891473\n",
            "80 64.19089147286822 15.731589147286822\n",
            "81 64.64147286821705 15.281007751937985\n",
            "82 65.65891472868218 14.263565891472869\n",
            "83 65.93992248062015 13.982558139534884\n",
            "84 67.51937984496124 12.4031007751938\n",
            "85 67.94573643410853 11.976744186046512\n",
            "86 68.46899224806202 11.453488372093023\n",
            "87 69.37984496124031 10.542635658914728\n",
            "88 70.33430232558139 9.588178294573643\n",
            "89 71.12403100775194 8.7984496124031\n",
            "90 71.79748062015504 8.125\n",
            "91 72.6501937984496 7.272286821705427\n",
            "92 73.65794573643412 6.2645348837209305\n",
            "93 74.58817829457364 5.334302325581396\n",
            "94 74.99031007751938 4.932170542635659\n",
            "95 75.79941860465117 4.123062015503876\n",
            "96 76.81201550387597 3.11046511627907\n",
            "97 77.6501937984496 2.272286821705426\n",
            "98 78.3672480620155 1.555232558139535\n",
            "99 79.07461240310077 0.8478682170542635\n",
            "[0.2518668135634717, 0.2913005816111867, 0.28348968105065664, 0.2729966584704621, 0.2855321048268826, 0.28104701266962506, 0.2764042011872921, 0.2893797116783494, 0.29015096096295806, 0.29088942957556096, 0.29190001365933615, 0.29663060704196237, 0.29635322062316616, 0.30372976776917665, 0.30218957278368164, 0.3068231203824424, 0.3097183715161243, 0.3013363028953229, 0.31021137243227154, 0.3067341084100861, 0.3091354621333946, 0.3141179197898153, 0.30282574568288856, 0.3156963653908009, 0.31010141987829615, 0.3124076809453471, 0.31046511627906975, 0.3154886965291201, 0.3133379168099003, 0.31127386868951085, 0.3192892954525464, 0.3213649322879544, 0.31765557163531116, 0.32126114532585714, 0.3226703755215577, 0.32138815541305166, 0.32389245048320736, 0.3224006265909536, 0.32974007656659277, 0.3271698494493281, 0.32833521618568345, 0.3260483111994144, 0.32221052631578945, 0.33122113629040917, 0.3268341044282882, 0.3275726630007855, 0.328394210889042, 0.31854791642348546, 0.3359810314167161, 0.3312132485299412, 0.3292966360856269, 0.3240531728116378, 0.3367294299716275, 0.3324597038396016, 0.3383652930776554, 0.3388750346356331, 0.3336670480549199, 0.3273386511965192, 0.32839290903807034, 0.3410054512416717, 0.33531714956930303, 0.33149866331184147, 0.3417910447761194, 0.33647058823529413, 0.3328788137037668, 0.33381037567084076, 0.3419438766028619, 0.33535200605601817, 0.34169341894060995, 0.33640922768304915, 0.3376165803108808, 0.3412436827070973, 0.33769063180827885, 0.33427428840272877, 0.33969749566079843, 0.3441692466460268, 0.33270167839740117, 0.3396842678279804, 0.34333525678015003, 0.35294117647058826, 0.336715282181357, 0.3420516304347826, 0.3354123354123354, 0.333203125, 0.32038834951456313, 0.33883248730964466, 0.3478860294117647, 0.34411318847902983, 0.33094713656387664, 0.32438878950506855, 0.34843437708194536, 0.345707656612529, 0.3533151680290645, 0.3575638506876228, 0.3783783783783784, 0.35202492211838005, 0.37100213219616207, 0.32710280373831774, 0.37142857142857144]\n",
            "[0.1650752846125597, 0.1622323969805717, 0.167104440275172, 0.16461761553495996, 0.16387170821909072, 0.1627757412052222, 0.1661556526844543, 0.1688930035709562, 0.16805213805945335, 0.1655852933225196, 0.17046851523015982, 0.16502446082822297, 0.16466396534860975, 0.16699507389162563, 0.16867555809143428, 0.16500072432275822, 0.16547497446373852, 0.16674090571640682, 0.16798154212563263, 0.16820172127434696, 0.16739413431350028, 0.16837956881230198, 0.17127158555729985, 0.16299453200385977, 0.16803245436105477, 0.16445100935499754, 0.16719269102990034, 0.17093873434742415, 0.16818494327947747, 0.17063388264016044, 0.1664174509631454, 0.17150748396293655, 0.16977206946454415, 0.16334221895394796, 0.16624942049142327, 0.1653149754809506, 0.16342933690555927, 0.1707460348541218, 0.17126737860165223, 0.16176619177528545, 0.16617027831981104, 0.1659521070793684, 0.16894736842105262, 0.16399957040060145, 0.1717338620841595, 0.1627202334193693, 0.1664369400413508, 0.16843702579666162, 0.16822762299940724, 0.16356654266170648, 0.1617125382262997, 0.15939302733885127, 0.16791333505287592, 0.16904730703708556, 0.16156670746634028, 0.16597395400387918, 0.17176773455377575, 0.1678027556200145, 0.16579482708514967, 0.170351302241066, 0.1620986687548943, 0.16700739109922944, 0.15887230514096184, 0.16588235294117648, 0.16260439747741606, 0.15670840787119858, 0.16372421482995725, 0.1678652535957608, 0.17174959871589085, 0.17031093279839518, 0.1672538860103627, 0.16062403867281916, 0.169281045751634, 0.1731357327687603, 0.16885693032482024, 0.17027863777089783, 0.160530590146183, 0.15759390310288515, 0.16358915175995384, 0.16476747767169694, 0.17247939124920736, 0.15794836956521738, 0.16285516285516285, 0.171875, 0.17313915857605178, 0.16666666666666666, 0.15900735294117646, 0.16270843860535625, 0.15693832599118943, 0.1735241502683363, 0.15056628914057296, 0.16395978344934262, 0.16167120799273388, 0.16110019646365423, 0.1809635722679201, 0.16199376947040497, 0.17057569296375266, 0.19314641744548286, 0.14285714285714285]\n"
          ]
        }
      ]
    },
    {
      "cell_type": "code",
      "source": [
        "plt.plot(x, y_NN, label='NN')\n",
        "plt.plot(x, y_RC, label='RC')\n",
        "plt.xlabel('Percentage of validation set of training set')\n",
        "plt.ylabel('Accuracy')\n",
        "plt.legend()\n",
        "plt.show()"
      ],
      "metadata": {
        "id": "_a3xYMegDPDG",
        "outputId": "05bdbd1f-ae23-4212-a549-51742a6988f3",
        "colab": {
          "base_uri": "https://localhost:8080/",
          "height": 449
        }
      },
      "execution_count": 68,
      "outputs": [
        {
          "output_type": "display_data",
          "data": {
            "text/plain": [
              "<Figure size 640x480 with 1 Axes>"
            ],
            "image/png": "[encoded data removed]"
          },
          "metadata": {}
        }
      ]
    },
    {
      "cell_type": "markdown",
      "metadata": {
        "id": "M9zvdYY6evgI"
      },
      "source": [
        "> Exercise: Try to implement a 3 nearest neighbour classifier and compare the accuracy of the 1 nearest neighbour classifier and the 3 nearest neighbour classifier on the test dataset. You can use the KNeighborsClassifier class from the scikit-learn library to implement the K-Nearest Neighbors model. You can set the number of neighbors using the n_neighbors parameter. You can also use the accuracy_score function from the scikit-learn library to calculate the accuracy of the model."
      ]
    },
    {
      "cell_type": "code",
      "source": [
        "from sklearn.neighbors import KNeighborsClassifier\n",
        "from sklearn.metrics import accuracy_score"
      ],
      "metadata": {
        "id": "dVQxUgWxD6WD"
      },
      "execution_count": 69,
      "outputs": []
    },
    {
      "cell_type": "code",
      "source": [
        "neigh = KNeighborsClassifier(n_neighbors=3)\n",
        "traindata, trainlabel, valdata, vallabel = split(\n",
        "    alltraindata, alltrainlabel, 90 / 100)\n",
        "neigh.fit(traindata, trainlabel)\n",
        "print(\"3 nearest neighbours: \", accuracy_score(testlabel, neigh.predict(testdata)) * 100)\n",
        "print(\"1 nearest neighbour: \", accuracy_score(testlabel, NN(traindata, trainlabel, testdata)) * 100)"
      ],
      "metadata": {
        "id": "uK6SZ7KkENVM",
        "outputId": "846bb8e4-01ae-4bee-f567-0311b5c443c3",
        "colab": {
          "base_uri": "https://localhost:8080/"
        }
      },
      "execution_count": 89,
      "outputs": [
        {
          "output_type": "stream",
          "name": "stdout",
          "text": [
            "3 nearest neighbours:  35.40057915057915\n",
            "1 nearest neighbour:  34.45945945945946\n"
          ]
        }
      ]
    },
    {
      "cell_type": "markdown",
      "metadata": {
        "id": "PnYvkAZLQY7h"
      },
      "source": [
        "## Multiple Splits\n",
        "\n",
        "One way to get more accurate estimates for the test accuracy is by using <b>cross-validation</b>. Here, we will try a simple version, where we do multiple train/val splits and take the average of validation accuracies as the test accuracy estimation. Here is a function for doing this. Note that this function will take a long time to execute. You can reduce the number of splits to make it faster."
      ]
    },
    {
      "cell_type": "code",
      "execution_count": 88,
      "metadata": {
        "id": "E4nGCUQXBTzo"
      },
      "outputs": [],
      "source": [
        "def AverageAccuracy(alldata, alllabel, splitpercent, iterations, classifier=NN):\n",
        "    \"\"\"\n",
        "    This function takes in the data, labels, split percentage, number of iterations and classifier function\n",
        "    and returns the average accuracy of the classifier\n",
        "\n",
        "    alldata: numpy array of shape (n,d) where n is the number of samples and d is the number of features\n",
        "    alllabel: numpy array of shape (n,) where n is the number of samples\n",
        "    splitpercent: float which is the percentage of data to be used for training\n",
        "    iterations: int which is the number of iterations to run the classifier\n",
        "    classifier: function which is the classifier function to be used\n",
        "\n",
        "    returns: the average accuracy of the classifier\n",
        "    \"\"\"\n",
        "    accuracy = 0\n",
        "    for ii in range(iterations):\n",
        "        traindata, trainlabel, valdata, vallabel = split(\n",
        "            alldata, alllabel, splitpercent\n",
        "        )\n",
        "        valpred = classifier(traindata, trainlabel, valdata)\n",
        "        accuracy += Accuracy(vallabel, valpred)\n",
        "    return accuracy / iterations  # average of all accuracies"
      ]
    },
    {
      "cell_type": "code",
      "execution_count": 98,
      "metadata": {
        "colab": {
          "base_uri": "https://localhost:8080/"
        },
        "id": "H3qtNar7Bbik",
        "outputId": "e10bbb48-955e-4feb-b3cc-f7f812dc6312"
      },
      "outputs": [
        {
          "output_type": "stream",
          "name": "stdout",
          "text": [
            "Average validation accuracy: 34.314144327431784 %\n",
            "Test accuracy: 34.91795366795367 %\n"
          ]
        }
      ],
      "source": [
        "avg_acc = AverageAccuracy(alltraindata, alltrainlabel, 95 / 100, 10, classifier=NN)\n",
        "print(\"Average validation accuracy:\", avg_acc*100, \"%\")\n",
        "testpred = NN(alltraindata, alltrainlabel, testdata)\n",
        "\n",
        "print(\"Test accuracy:\", Accuracy(testlabel, testpred)*100, \"%\")"
      ]
    },
    {
      "cell_type": "markdown",
      "metadata": {
        "id": "33GIn4x5VH-d"
      },
      "source": [
        "This is a very simple way of doing cross-validation. There are many well-known algorithms for cross-validation, like k-fold cross-validation, leave-one-out etc. This will be covered in detail in a later module. For more information about cross-validation, check <a href=https://en.wikipedia.org/wiki/Cross-validation_(statistics)>Cross-validatioin (Wikipedia)</a>\n",
        "\n",
        "### Questions\n",
        "1. Does averaging the validation accuracy across multiple splits give more consistent results?\n",
        "2. Does it give more accurate estimate of test accuracy?\n",
        "3. What is the effect of the number of iterations on the estimate? Do we get a better estimate with higher iterations?\n",
        "4. Consider the results you got for the previous questions. Can we deal with a very small train dataset or validation dataset by increasing the iterations?\n"
      ]
    },
    {
      "cell_type": "markdown",
      "source": [
        "**Answers:**\n",
        "\n",
        "1. yes\n",
        "2. yes\n",
        "3. yes\n",
        "4. yes"
      ],
      "metadata": {
        "id": "cH0HZEZcJDIR"
      }
    },
    {
      "cell_type": "markdown",
      "metadata": {
        "id": "z-SBxy1qevgJ"
      },
      "source": [
        "> Exercise: How does the accuracy of the 3 nearest neighbour classifier change with the number of splits? How is it affected by the split size? Compare the results with the 1 nearest neighbour classifier."
      ]
    },
    {
      "cell_type": "code",
      "source": [
        "def AverageAccuracy(alldata, alllabel, splitpercent, iterations, classifier=KNeighborsClassifier):\n",
        "    \"\"\"\n",
        "    This function takes in the data, labels, split percentage, number of iterations and classifier function\n",
        "    and returns the average accuracy of the classifier\n",
        "\n",
        "    alldata: numpy array of shape (n,d) where n is the number of samples and d is the number of features\n",
        "    alllabel: numpy array of shape (n,) where n is the number of samples\n",
        "    splitpercent: float which is the percentage of data to be used for training\n",
        "    iterations: int which is the number of iterations to run the classifier\n",
        "    classifier: function which is the classifier function to be used\n",
        "\n",
        "    returns: the average accuracy of the classifier\n",
        "    \"\"\"\n",
        "    accuracy = 0\n",
        "    for ii in range(iterations):\n",
        "        traindata, trainlabel, valdata, vallabel = split(\n",
        "            alldata, alllabel, splitpercent\n",
        "        )\n",
        "        valpred = classifier(n_neighbors=3)\n",
        "        valpred.fit(traindata, trainlabel)\n",
        "        accuracy += accuracy_score(vallabel, valpred.predict(valdata))\n",
        "    return accuracy / iterations  # average of all accuracies"
      ],
      "metadata": {
        "id": "T9BA403LKBOZ"
      },
      "execution_count": 108,
      "outputs": []
    },
    {
      "cell_type": "code",
      "source": [
        "avg_acc = AverageAccuracy(alltraindata, alltrainlabel, 20 / 100, 10, classifier=KNeighborsClassifier)\n",
        "print(\"Average validation accuracy:\", avg_acc*100, \"%\")\n",
        "testpred = KNeighborsClassifier(n_neighbors=3)\n",
        "testpred.fit(alltraindata, alltrainlabel)\n",
        "print(\"Test accuracy:\", accuracy_score(testlabel, testpred.predict(testdata))*100, \"%\")"
      ],
      "metadata": {
        "id": "1ntCH56NKUJ1",
        "outputId": "0ff798ab-c4b3-4652-d990-353935a099f1",
        "colab": {
          "base_uri": "https://localhost:8080/"
        }
      },
      "execution_count": 128,
      "outputs": [
        {
          "output_type": "stream",
          "name": "stdout",
          "text": [
            "Average validation accuracy: 31.626479289176846 %\n",
            "Test accuracy: 36.05212355212355 %\n"
          ]
        }
      ]
    },
    {
      "cell_type": "markdown",
      "source": [
        "Accuracy increses with increase in number of splits. It decreases with increase in validation set. The trends are the same as the 1 nearest neighbour classifier."
      ],
      "metadata": {
        "id": "n1vWPf0_MPjL"
      }
    }
  ],
  "metadata": {
    "colab": {
      "provenance": [],
      "include_colab_link": true
    },
    "kernelspec": {
      "display_name": "Python 3",
      "name": "python3"
    },
    "language_info": {
      "codemirror_mode": {
        "name": "ipython",
        "version": 3
      },
      "file_extension": ".py",
      "mimetype": "text/x-python",
      "name": "python",
      "nbconvert_exporter": "python",
      "pygments_lexer": "ipython3",
      "version": "3.10.10"
    }
  },
  "nbformat": 4,
  "nbformat_minor": 0
}